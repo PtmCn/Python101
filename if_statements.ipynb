{
  "nbformat": 4,
  "nbformat_minor": 0,
  "metadata": {
    "colab": {
      "name": "if statements.ipynb",
      "provenance": [],
      "collapsed_sections": [],
      "authorship_tag": "ABX9TyOTxZZ+Jo1Rl1XPn8vo2/Kg",
      "include_colab_link": true
    },
    "kernelspec": {
      "name": "python3",
      "display_name": "Python 3"
    },
    "language_info": {
      "name": "python"
    }
  },
  "cells": [
    {
      "cell_type": "markdown",
      "metadata": {
        "id": "view-in-github",
        "colab_type": "text"
      },
      "source": [
        "<a href=\"https://colab.research.google.com/github/PtmCn/Python101/blob/main/if_statements.ipynb\" target=\"_parent\"><img src=\"https://colab.research.google.com/assets/colab-badge.svg\" alt=\"Open In Colab\"/></a>"
      ]
    },
    {
      "cell_type": "code",
      "metadata": {
        "colab": {
          "base_uri": "https://localhost:8080/"
        },
        "id": "8UadhZnQ1Pjy",
        "outputId": "42dd04cd-c86f-4b23-b921-c14e003af290"
      },
      "source": [
        "#1\n",
        "weight = int (input('น้ำหนัก = '))\n",
        "height = int (input('ความสูง = '))\n",
        "height /= 100\n",
        "BMI = weight/height**2\n",
        "if  BMI < 17:\n",
        "  print('ผอมมาก')\n",
        "elif BMI < 20:\n",
        "  print('ผอม')\n",
        "elif BMI < 25:\n",
        "  print('ปกติ')\n",
        "elif BMI < 40:\n",
        "  print('อ้วน')\n",
        "else:\n",
        "  print('อ้วนมาก')"
      ],
      "execution_count": null,
      "outputs": [
        {
          "output_type": "stream",
          "text": [
            "น้ำหนัก = 54\n",
            "ความสูง = 160\n",
            "ปกติ\n"
          ],
          "name": "stdout"
        }
      ]
    },
    {
      "cell_type": "code",
      "metadata": {
        "id": "2ed_YNbM2SQI",
        "colab": {
          "base_uri": "https://localhost:8080/"
        },
        "outputId": "c8f2c592-9412-4258-afc3-358a8b4152cf"
      },
      "source": [
        "#2\n",
        "room = input('Enter room choice :')\n",
        "if room == 'D' or room == 'd':\n",
        "  night = int(input('Enter nights to stay :'))\n",
        "  if night == 0:\n",
        "    print ('INVALID CHOICE')\n",
        "  elif night <=2:\n",
        "    print ('Payment is ',night * 3500,'baht')\n",
        "  else:\n",
        "    print ('Payment is ',night * 3000,'baht')\n",
        "elif room == 'G' or room =='g':\n",
        "  night = int(input('Enter nights to stay :'))\n",
        "  if night == 0:\n",
        "    print ('INVALID CHOICE')\n",
        "  elif night <=2:\n",
        "    print ('Payment is ',night * 4000,'baht')\n",
        "  else:\n",
        "    print ('Payment is ',night * 4000,'baht')\n",
        "else:\n",
        "  print('INVALID CHOICE')"
      ],
      "execution_count": 31,
      "outputs": [
        {
          "output_type": "stream",
          "text": [
            "Enter room choice :d\n",
            "Enter nights to stay :0\n",
            "INVALID CHOICE\n"
          ],
          "name": "stdout"
        }
      ]
    },
    {
      "cell_type": "code",
      "metadata": {
        "colab": {
          "base_uri": "https://localhost:8080/"
        },
        "id": "iiz5AvlvOK8v",
        "outputId": "6c2dcbbd-21ee-4d6a-c70b-9572a2dc1cd1"
      },
      "source": [
        "#3\n",
        "#input\n",
        "month = int (input('Enter month :'))\n",
        "year = int (input('Enter year :'))\n",
        "#month\n",
        "if month in (1,3,5,7,8,10,12):\n",
        "  day = 31\n",
        "elif month in (4,6,9,11):\n",
        "  day = 30\n",
        "elif month == 2:\n",
        "  if year % 4 == 0 and year % 100 !=0 or year % 400 == 0:\n",
        "    day = 29\n",
        "  else:\n",
        "    day = 28\n",
        "else:\n",
        "  print('error')\n",
        "#output\n",
        "print ('Number of days :', day)"
      ],
      "execution_count": 42,
      "outputs": [
        {
          "output_type": "stream",
          "text": [
            "Enter month :2\n",
            "Enter year :2008\n",
            "Number of days : 29\n"
          ],
          "name": "stdout"
        }
      ]
    },
    {
      "cell_type": "code",
      "metadata": {
        "colab": {
          "base_uri": "https://localhost:8080/"
        },
        "id": "darIvzHacofT",
        "outputId": "f1518330-6e4c-4982-e001-47a862ec6686"
      },
      "source": [
        "name,surname = (input('Enter your name :')).split()\n",
        "salary = int (input('Enter your salary :'))\n",
        "if salary in range(0,150000):\n",
        "  print('no tax')\n",
        "else:\n",
        "  if salary in range(150000,300000):\n",
        "    tax = 0.05 * (salary - 150000)\n",
        "  elif salary in range(300000,500000):\n",
        "    tax = 0.1 * (salary - 300000) + 7500\n",
        "  elif salary > 500000:\n",
        "    tax = 0.15 * (salary - 500000) + 20000 + 7500\n",
        "  print(name,surname)\n",
        "  print('Total Tax : ', tax, 'baht')\n"
      ],
      "execution_count": 49,
      "outputs": [
        {
          "output_type": "stream",
          "text": [
            "Enter your name :fadf dafsdfas\n",
            "Enter your salary :250000\n",
            "fadf dafsdfas\n",
            "Total Tax :  5000.0 baht\n"
          ],
          "name": "stdout"
        }
      ]
    }
  ]
}