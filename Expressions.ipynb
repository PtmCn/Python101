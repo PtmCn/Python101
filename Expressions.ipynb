{
  "nbformat": 4,
  "nbformat_minor": 0,
  "metadata": {
    "colab": {
      "name": "Expressions.ipynb",
      "provenance": [],
      "authorship_tag": "ABX9TyPFQDNnBrtPj8r1M4UOs796",
      "include_colab_link": true
    },
    "kernelspec": {
      "name": "python3",
      "display_name": "Python 3"
    },
    "language_info": {
      "name": "python"
    }
  },
  "cells": [
    {
      "cell_type": "markdown",
      "metadata": {
        "id": "view-in-github",
        "colab_type": "text"
      },
      "source": [
        "<a href=\"https://colab.research.google.com/github/PtmCn/Python101/blob/main/Expressions.ipynb\" target=\"_parent\"><img src=\"https://colab.research.google.com/assets/colab-badge.svg\" alt=\"Open In Colab\"/></a>"
      ]
    },
    {
      "cell_type": "code",
      "metadata": {
        "colab": {
          "base_uri": "https://localhost:8080/"
        },
        "id": "Omwa6ty2oCXh",
        "outputId": "3f8f2032-54a6-4ec7-f8a4-5c21682d2b15"
      },
      "source": [
        "total = float(input('Enter price with vat:'))\n",
        "tax = str((total/107)*7)\n",
        "print ('vat is '+ tax + ' baht.')"
      ],
      "execution_count": 36,
      "outputs": [
        {
          "output_type": "stream",
          "text": [
            "Enter price with vat:347.75\n",
            "vat is 22.75 baht.\n"
          ],
          "name": "stdout"
        }
      ]
    },
    {
      "cell_type": "code",
      "metadata": {
        "colab": {
          "base_uri": "https://localhost:8080/"
        },
        "id": "eWoyyJexufTQ",
        "outputId": "6ec389e0-de71-4ac7-e64e-10f28e3f0689"
      },
      "source": [
        "import math\n",
        "price = float(input('Enter price:'))\n",
        "sellPrice = math.ceil(price *1.07)\n",
        "print('Selling price is '+ str(sellPrice) +' bath.')"
      ],
      "execution_count": 38,
      "outputs": [
        {
          "output_type": "stream",
          "text": [
            "Enter price:350\n",
            "Selling price is 375 bath.\n"
          ],
          "name": "stdout"
        }
      ]
    },
    {
      "cell_type": "code",
      "metadata": {
        "colab": {
          "base_uri": "https://localhost:8080/"
        },
        "id": "hVhRGydevn9i",
        "outputId": "f41e2deb-e93f-4529-8abc-344d3dffe91c"
      },
      "source": [
        "import math\n",
        "radius,length = (input('Enter radius and length of side:').split())\n",
        "radius = float(radius)\n",
        "length = float(length)\n",
        "print ('The circle is larger than this square: '+str((math.pi*radius**2)>length**2))"
      ],
      "execution_count": 48,
      "outputs": [
        {
          "output_type": "stream",
          "text": [
            "Enter radius and length of side:2.5 4.1\n",
            "The circle is larger than this square: True\n"
          ],
          "name": "stdout"
        }
      ]
    },
    {
      "cell_type": "code",
      "metadata": {
        "colab": {
          "base_uri": "https://localhost:8080/"
        },
        "id": "gSB7CV_Ox-4m",
        "outputId": "c9533512-429e-4383-b1d8-b230b02daff3"
      },
      "source": [
        "name,months = (input('Enter name and no. of months:').split())\n",
        "months = int(months)\n",
        "year = months//12\n",
        "monthsleft = months%12\n",
        "print(name +' has used this product for '+str(year) +' years and '+str(monthsleft)+' months.')"
      ],
      "execution_count": 55,
      "outputs": [
        {
          "output_type": "stream",
          "text": [
            "Enter name and no. of months:Tom 42\n",
            "Tom has used this product for 3 years and 6 months.\n"
          ],
          "name": "stdout"
        }
      ]
    }
  ]
}