{
  "nbformat": 4,
  "nbformat_minor": 0,
  "metadata": {
    "colab": {
      "name": "comlab2.ipynb",
      "provenance": [],
      "collapsed_sections": [],
      "authorship_tag": "ABX9TyP0+T9CN6eR2vQB4AaTAGqs",
      "include_colab_link": true
    },
    "kernelspec": {
      "name": "python3",
      "display_name": "Python 3"
    },
    "language_info": {
      "name": "python"
    }
  },
  "cells": [
    {
      "cell_type": "markdown",
      "metadata": {
        "id": "view-in-github",
        "colab_type": "text"
      },
      "source": [
        "<a href=\"https://colab.research.google.com/github/PtmCn/Python101/blob/main/comlab2.ipynb\" target=\"_parent\"><img src=\"https://colab.research.google.com/assets/colab-badge.svg\" alt=\"Open In Colab\"/></a>"
      ]
    },
    {
      "cell_type": "code",
      "metadata": {
        "colab": {
          "base_uri": "https://localhost:8080/"
        },
        "id": "F8cNNNwO53Iq",
        "outputId": "7c68427a-af49-4400-d2b8-8045a926d8ca"
      },
      "source": [
        "'''\n",
        "@author: Putthimeth\n",
        "'''\n",
        "#Lab2P1\n",
        "from math import sqrt\n",
        "a,b,c = (input('Enter coeffcients a, b, c ')).split(',')\n",
        "a = float(a)\n",
        "b = float(b)\n",
        "c = float(c)\n",
        "x1 = (-b + sqrt(b*b-4*a*c))/(2*a)\n",
        "x2 = (-b - sqrt(b*b-4*a*c))/(2*a)\n",
        "print ('x = ',x1,',',x2)'''"
      ],
      "execution_count": 4,
      "outputs": [
        {
          "output_type": "stream",
          "text": [
            "Enter coeffcients a, b, c 2.5,-8.7,2.1\n",
            "x =  3.219053751558745 , 0.26094624844125425\n"
          ],
          "name": "stdout"
        }
      ]
    },
    {
      "cell_type": "code",
      "metadata": {
        "colab": {
          "base_uri": "https://localhost:8080/"
        },
        "id": "34YRVndQ82tG",
        "outputId": "1e7a6612-db8c-4e4c-f6e8-cd1df0b3fe9c"
      },
      "source": [
        "'''\n",
        "@author: Putthimeth\n",
        "'''\n",
        "#Lab2P2\n",
        "a,b,c = (input('Enter coeffcients a, b, c ')).split(',')\n",
        "a = float(a)\n",
        "b = float(b)\n",
        "c = float(c)\n",
        "print ('Can use quadratic formula:',(b*b-4*a*c >= 0 and a != 0))"
      ],
      "execution_count": 8,
      "outputs": [
        {
          "output_type": "stream",
          "text": [
            "Enter coeffcients a, b, c 2.3,-1.5,1.5\n",
            "Can use quadratic formula:  False\n"
          ],
          "name": "stdout"
        }
      ]
    },
    {
      "cell_type": "code",
      "metadata": {
        "colab": {
          "base_uri": "https://localhost:8080/"
        },
        "id": "d3U_VW-a9lyp",
        "outputId": "b70f575d-41c9-4d1d-9739-bde998dba851"
      },
      "source": [
        "'''\n",
        "@author: Putthimeth\n",
        "'''\n",
        "#Lab2P3\n",
        "a,b,c = (input('Enter coeffcients a, b, c ')).split(',')\n",
        "a = float(a)\n",
        "b = float(b)\n",
        "c = float(c)\n",
        "print ('Triangle:',(a+b >=c and a+c >= b and b+c >= a))"
      ],
      "execution_count": 12,
      "outputs": [
        {
          "output_type": "stream",
          "text": [
            "Enter coeffcients a, b, c 3,7.5,4\n",
            "Triangle: False\n"
          ],
          "name": "stdout"
        }
      ]
    },
    {
      "cell_type": "code",
      "metadata": {
        "colab": {
          "base_uri": "https://localhost:8080/"
        },
        "id": "EmhB2S52-qlO",
        "outputId": "1ed63380-01af-40c3-9e52-dc2ecfb4fe82"
      },
      "source": [
        "'''\n",
        "@author: Putthimeth\n",
        "'''\n",
        "#Lab2P4\n",
        "a,b,c = (input('Enter coeffcients a, b, c ')).split(',')\n",
        "a = float(a)\n",
        "b = float(b)\n",
        "c = float(c)\n",
        "print ('Right triangle:',(a**2 + b**2  == c**2 or a**2 + c**2  == b**2 or b**2 + c**2  == a**2))"
      ],
      "execution_count": 14,
      "outputs": [
        {
          "output_type": "stream",
          "text": [
            "Enter coeffcients a, b, c 3.4,5,4\n",
            "Right triangle: False\n"
          ],
          "name": "stdout"
        }
      ]
    }
  ]
}